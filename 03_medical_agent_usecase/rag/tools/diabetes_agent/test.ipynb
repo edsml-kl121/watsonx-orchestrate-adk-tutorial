{
 "cells": [
  {
   "cell_type": "code",
   "execution_count": 2,
   "id": "0fff6ad8",
   "metadata": {},
   "outputs": [
    {
     "data": {
      "text/plain": [
       "'อาหารแลกเปลี่ยน (แบ่งออกเป็น 6 หมวด)\\n1. หมวดข้าว แป้ง ขนมปัง\\n1 ส่วน = 80 กิโลแคลอรี่ เช่น\\n- ข้าวสวย 1/3 ถ้วย, ข้าวต้ม 2 ทัพพี, ขนมจีน 1½ จับ\\n2. หมวดเนื้อสัตว์ (ไม่ติดมัน)\\n1 ส่วน = 55 กิโลแคลอรี่ เช่น\\n- ปลา 30g, ไก่ 30g, หมู 30g, ไข่ขาว 3 ฟอง, เต้าหู้ 100g\\n3. หมวดผัก\\n1 ส่วน = 25 กิโลแคลอรี่\\n- ผักดิบ 1 ถ้วย หรือผักสุก ½ ถ้วย\\n4. หมวดผลไม้\\n1 ส่วน = 60 กิโลแคลอรี่ เช่น\\n- มะม่วงสุก ½ ผล, มะละกอ 6 ชิ้นคา, แตงโม 10–12 ชิ้นคา, ฝรั่ง 1 ผลเล็ก, องุ่น 15 ผลเล็ก\\n5. หมวดนม (เลี่ยงนมหวาน)\\n- นมเต็มไขมัน 240cc = 150 กิโลแคลอรี่\\n- นมพร่องมันเนยหรือขาดไขมัน = แนะนาสาหรับผู้ป่วยเบาหวาน\\n6. หมวดไขมัน\\n1 ช้อนชา = 45 กิโลแคลอรี่\\n- น ้ามันพืช, เนยเทียม, มายองเนส, น ้าสลัด\\nตัวอย่างอาหารใน 1 วัน (1500 กิโลแคลอรี่)\\nมื้อเช้า: ข้าวต้มไก่ + ฝรั่ง + นมพร่องมันเนย\\n- ข้าว 2½ ทัพพี\\n- ไก่ต้มสุก 4 ช้อนโต๊ะ\\n- ฝรั่ง 1 ผลเล็ก\\n- นมพร่องมันเนย 240cc\\n\\nอาหารสุขภาพของผู้ป่วยเบาหวาน\\nฝ่ายโภชนาการ โรงพยาบาลศิริราช\\nคณะแพทยศาสตร์ศิริราชพยาบาล มหาวิทยาลัยมหิดล\\nโรคเบาหวานคืออะไร\\nโรคเบาหวานเป็นโรคที่เกิดขึ้นเมื่อร่างกายไม่สามารถนาน ้าตาลกลูโคสในเลือดไปใช้ได้อย่างเหมาะสม ซึ่งอาหารที่\\nรับประทานเข้าไปจะถูกเปลี่ยนเป็นกลูโคส ถ้ารับประทานอาหารมากเกินไป น ้าตาลที่นาไปใช้ไม่หมดจะสะสมใน\\nกระแสเลือด และอาจออกมาในปัสสาวะ อินซูลินที่สร้างจากตับอ่อนมีหน้าที่นาน ้าตาลเข้าเซลล์เพื่อใช้เป็นพลังงาน หาก\\nอินซูลินไม่เพียงพอหรือทางานไม่ดี จะทาให้เกิดโรคเบาหวาน\\nอาการสาคัญของโรคเบาหวาน\\n1. ปัสสาวะบ่อย (อาจมีมดขึ้นปัสสาวะ)\\n2. กระหายน ้า ดื่มน ้ามาก\\n3. อ่อนเพลีย น ้าหนักลดลง แม้รับประทานมาก\\n4. อาการแทรกซ้อน เช่น ตาพร่ามัว ชาตามปลายมือปลายเท้า แผลหายช้า ติดเชื้อง่าย โรคไต ความดันสูง หัวใจ ฯลฯ\\nหลักในการเลือกรับประทานอาหาร\\n1. รับประทานอาหารหลากหลาย สมดุล เป็นเวลา\\n2. หลีกเลี่ยงของหวาน อาหารที่มีน ้าตาล\\n3. เลือกคาร์โบไฮเดรตที่มีใยอาหาร\\n4. รับประทานในปริมาณที่นักโภชนาการกาหนด\\nอาหารที่ควรรับประทาน\\n- ข้าวซ้อมมือ ขนมปัง ข้าวกล้อง\\n- ผักใบทุกชนิด (พลังงานต ่า ใยอาหารสูง)\\nอาหารที่ควรลด\\n- ผลไม้รสหวานจัด เช่น กล้วย สับปะรด ทุเรียน\\nอาหารที่ควรงด\\n- ขนมหวาน น ้าตาล น ้าหวาน ลูกอม น ้าอัดลม\\n- ผลไม้รสหวานจัด เช่น ทุเรียน\\n\\nมื้อกลางวัน: ข้าวผัดปูใส่ไข่ + พุทรา\\n- ข้าว 3 ทัพพี\\n- เนื้อปู 2 ช้อนโต๊ะ\\n- ไข่ 1 ฟอง\\n- น ้ามัน 2 ช้อนชา\\n- พุทรา 3 ผล\\nมื้อเย็น: ข้าว + แกงส้มรวมมิตรกุ้ง + ไก่ผัดกระเพรา + ส้มโอ\\n- ข้าว 3 ทัพพี\\n- กุ้ง 4 ตัว\\n- ไก่ 2 ช้อนโต๊ะ\\n- ส้มโอ 2–3 กลีบ'"
      ]
     },
     "execution_count": 2,
     "metadata": {},
     "output_type": "execute_result"
    }
   ],
   "source": [
    "import os\n",
    "from dotenv import load_dotenv\n",
    "from ibm_watsonx_ai.foundation_models.utils import Toolkit\n",
    "from ibm_watsonx_ai import APIClient, Credentials\n",
    "\n",
    "# Get absolute path to `.env` in the same directory as this script\n",
    "# env_path = os.path.join(os.path.dirname(__file__), \".env\")\n",
    "load_dotenv()\n",
    "\n",
    "try:\n",
    "    # Load and validate environment variables\n",
    "\n",
    "    #  make sure vector_index exists in the same project_id\n",
    "    vector_index_id = os.getenv(\"WATSONX_VECTOR_INDEX_ID\")\n",
    "    # Replace with your actual project ID and credentials\n",
    "    project_id = os.getenv(\"WATSONX_PROJECT_ID\")\n",
    "    # the URL for the IBM Watsonx studio machine learning instance\n",
    "    watsonx_url = os.getenv(\"WATSONX_URL\")\n",
    "    # get them from your IBM Cloud account (IAM API keys)\n",
    "    watsonx_api_key = os.getenv(\"WATSONX_API_KEY\")\n",
    "    if not vector_index_id:\n",
    "        raise EnvironmentError(\"❌ WATSONX_VECTOR_INDEX_ID environment variable not found\")\n",
    "    if not project_id:\n",
    "        raise EnvironmentError(\"❌ WATSONX_PROJECT_ID environment variable not found\")\n",
    "    if not watsonx_url:\n",
    "        raise EnvironmentError(\"❌ WATSONX_URL environment variable not found\")\n",
    "    if not watsonx_api_key:\n",
    "        raise EnvironmentError(\"❌ WATSONX_API_KEY environment variable not found\")\n",
    "    \n",
    "    credentials = Credentials(\n",
    "        url=watsonx_url,\n",
    "        api_key=watsonx_api_key,\n",
    "    )\n",
    "except EnvironmentError as e:\n",
    "    raise RuntimeError(f\"Environment variable error: {e}\")\n",
    "\n",
    "\n",
    "\n",
    "def proximity_search(query: str) -> str:\n",
    "    try:\n",
    "        api_client = APIClient(\n",
    "            project_id=project_id,\n",
    "            credentials=credentials,\n",
    "        )\n",
    "\n",
    "        document_search_tool = Toolkit(api_client).get_tool(\"RAGQuery\")\n",
    "\n",
    "        config = {\n",
    "            \"vectorIndexId\": vector_index_id,\n",
    "            \"projectId\": project_id\n",
    "        }\n",
    "\n",
    "        results = document_search_tool.run(\n",
    "            input=query,\n",
    "            config=config\n",
    "        )\n",
    "\n",
    "        return results.get(\"output\")\n",
    "    except Exception as e:\n",
    "        raise RuntimeError(f\"Error during RAG proximity search: {e}\")\n",
    "    \n",
    "proximity_search(\"“อาหารแลกเปลี่ยน” หมายถึงอะไร?\")"
   ]
  },
  {
   "cell_type": "code",
   "execution_count": null,
   "id": "11024dfe",
   "metadata": {},
   "outputs": [],
   "source": []
  }
 ],
 "metadata": {
  "kernelspec": {
   "display_name": "venv",
   "language": "python",
   "name": "python3"
  },
  "language_info": {
   "codemirror_mode": {
    "name": "ipython",
    "version": 3
   },
   "file_extension": ".py",
   "mimetype": "text/x-python",
   "name": "python",
   "nbconvert_exporter": "python",
   "pygments_lexer": "ipython3",
   "version": "3.11.5"
  }
 },
 "nbformat": 4,
 "nbformat_minor": 5
}
